{
 "cells": [
  {
   "cell_type": "code",
   "execution_count": 1,
   "id": "20b969a7",
   "metadata": {
    "scrolled": true
   },
   "outputs": [],
   "source": [
    "# Remember to add *TRIS* after picture before yolo prediction\n",
    "# pip install opencv-python"
   ]
  },
  {
   "cell_type": "code",
   "execution_count": 2,
   "id": "1d7ab777",
   "metadata": {},
   "outputs": [
    {
     "data": {
      "text/plain": [
       "['/Users/Cash/Dropbox (UFL)/New World/Mehdi weekly meeting/08012022 Weekly meeting ZhuolunMeng/08012022WeeklymeetingZhuolunMeng',\n",
       " '/Users/Cash/.conda/envs/untitled/lib/python38.zip',\n",
       " '/Users/Cash/.conda/envs/untitled/lib/python3.8',\n",
       " '/Users/Cash/.conda/envs/untitled/lib/python3.8/lib-dynload',\n",
       " '',\n",
       " '/Users/Cash/.conda/envs/untitled/lib/python3.8/site-packages']"
      ]
     },
     "execution_count": 2,
     "metadata": {},
     "output_type": "execute_result"
    }
   ],
   "source": [
    "import os\n",
    "os.sys.path"
   ]
  },
  {
   "cell_type": "code",
   "execution_count": 3,
   "id": "60ee5f16",
   "metadata": {
    "scrolled": true
   },
   "outputs": [
    {
     "name": "stdout",
     "output_type": "stream",
     "text": [
      "Requirement already satisfied: openpyxl in /Users/Cash/.conda/envs/untitled/lib/python3.8/site-packages (3.0.10)\n",
      "Requirement already satisfied: et-xmlfile in /Users/Cash/.conda/envs/untitled/lib/python3.8/site-packages (from openpyxl) (1.1.0)\n",
      "Note: you may need to restart the kernel to use updated packages.\n"
     ]
    }
   ],
   "source": [
    "pip install openpyxl"
   ]
  },
  {
   "cell_type": "code",
   "execution_count": 4,
   "id": "60c0107b",
   "metadata": {},
   "outputs": [],
   "source": [
    "import cv2"
   ]
  },
  {
   "cell_type": "code",
   "execution_count": 5,
   "id": "eae95041",
   "metadata": {},
   "outputs": [],
   "source": [
    "import io\n",
    "import pandas as pd \n",
    "import numpy as np\n",
    "import os\n",
    "import xlrd"
   ]
  },
  {
   "cell_type": "code",
   "execution_count": 6,
   "id": "8a83d8fb",
   "metadata": {},
   "outputs": [],
   "source": [
    "# Assume the yolo will detect 10 reagents\n",
    "image_name = ['Blood_1.png', 'Bilirubin_1.png', 'Glucose_1.png', 'Ketone_1.png', 'Leukocytes_1.png', 'Nitrite_1.png', 'pH_1.png', 'Protein_1.png', 'Specific_1.png', 'Urobilinogen_1.png']"
   ]
  },
  {
   "cell_type": "code",
   "execution_count": 7,
   "id": "12e3ea18",
   "metadata": {},
   "outputs": [],
   "source": [
    "final_df = pd.DataFrame()\n",
    "folder_pc = []\n",
    "folder_names = os.listdir()"
   ]
  },
  {
   "cell_type": "code",
   "execution_count": 8,
   "id": "37b17f75",
   "metadata": {},
   "outputs": [],
   "source": [
    "for i in folder_names:\n",
    "       if 'TRIS' in i:\n",
    "              folder_pc.append(i)"
   ]
  },
  {
   "cell_type": "code",
   "execution_count": 9,
   "id": "c7ddd983",
   "metadata": {},
   "outputs": [
    {
     "name": "stderr",
     "output_type": "stream",
     "text": [
      "/Users/Cash/.conda/envs/untitled/lib/python3.8/site-packages/pandas/core/indexing.py:1637: SettingWithCopyWarning: \n",
      "A value is trying to be set on a copy of a slice from a DataFrame\n",
      "\n",
      "See the caveats in the documentation: https://pandas.pydata.org/pandas-docs/stable/user_guide/indexing.html#returning-a-view-versus-a-copy\n",
      "  self._setitem_single_block(indexer, value, name)\n"
     ]
    }
   ],
   "source": [
    "for l in image_name:\n",
    "\n",
    "       df = pd.DataFrame(folder_pc)\n",
    "       df.columns = ['folder_pc']\n",
    "\n",
    "       df['Key'] = df.folder_pc.str[-2:]\n",
    "       df['Mean'] = 0\n",
    "       df['Image'] = l\n",
    "       df['Path'] = './' + df.folder_pc + '/' + df.Image\n",
    "       for i in range(len(df)):\n",
    "              path2 = df.Path.iloc[i]\n",
    "              img = cv2.imread(path2)\n",
    "              each_mean = (np.mean(img[:,:,0]) + np.mean(img[:,:,1]) + np.mean(img[:,:,2]))/3\n",
    "              df.Mean.iloc[i] = each_mean\n",
    "       final_df = final_df.append(df)\n"
   ]
  },
  {
   "cell_type": "code",
   "execution_count": 10,
   "id": "0afcb126",
   "metadata": {},
   "outputs": [],
   "source": [
    "# Filter the values we wanna display\n",
    "final_df[((final_df.Key=='S1') & (final_df.Image=='Urobilinogen_1.png')) | ((final_df.Key=='S2') & (final_df.Image=='Protein_1.png')) | ((final_df.Key=='S3') & (final_df.Image=='Nitrite_1.png')) | ((final_df.Key=='S4') & (final_df.Image=='pH_1.png'))].to_excel('result.xlsx')\n"
   ]
  },
  {
   "cell_type": "code",
   "execution_count": 11,
   "id": "d22149b8",
   "metadata": {},
   "outputs": [],
   "source": [
    "pf=pd.read_excel('result.xlsx')  "
   ]
  },
  {
   "cell_type": "code",
   "execution_count": 24,
   "id": "d9880458",
   "metadata": {
    "scrolled": true
   },
   "outputs": [],
   "source": [
    "#print(pf)"
   ]
  },
  {
   "cell_type": "code",
   "execution_count": 13,
   "id": "d40e6cb8",
   "metadata": {
    "scrolled": true
   },
   "outputs": [],
   "source": [
    "# change the names of strip boxes which yolo is confusing\n",
    "pf1=pf.replace(to_replace =\"Urobilinogen_1.png\",\n",
    "                 value =\"Glucose\")"
   ]
  },
  {
   "cell_type": "code",
   "execution_count": 14,
   "id": "0d4c51da",
   "metadata": {},
   "outputs": [],
   "source": [
    "pf2=pf1.replace(to_replace =\"Protein_1.png\",\n",
    "                 value =\"Ketone\")"
   ]
  },
  {
   "cell_type": "code",
   "execution_count": 15,
   "id": "a4ac8181",
   "metadata": {},
   "outputs": [],
   "source": [
    "pf3=pf2.replace(to_replace =\"Nitrite_1.png\",\n",
    "                 value =\"Blood\")"
   ]
  },
  {
   "cell_type": "code",
   "execution_count": 16,
   "id": "dcde330d",
   "metadata": {},
   "outputs": [],
   "source": [
    "pf4=pf3.replace(to_replace =\"pH_1.png\",\n",
    "                 value =\"Leukocytes\")"
   ]
  },
  {
   "cell_type": "code",
   "execution_count": 22,
   "id": "a13ed613",
   "metadata": {
    "scrolled": true
   },
   "outputs": [],
   "source": [
    "#print(pf4)"
   ]
  },
  {
   "cell_type": "code",
   "execution_count": 18,
   "id": "1bc6819d",
   "metadata": {
    "scrolled": true
   },
   "outputs": [],
   "source": [
    "pf5=pf4.drop(columns=['Unnamed: 0', 'Key', 'Path'])"
   ]
  },
  {
   "cell_type": "code",
   "execution_count": 23,
   "id": "8eda8847",
   "metadata": {},
   "outputs": [],
   "source": [
    "#print(pf5)"
   ]
  },
  {
   "cell_type": "code",
   "execution_count": 20,
   "id": "c17d04a4",
   "metadata": {
    "scrolled": true
   },
   "outputs": [],
   "source": [
    "# Final result\n",
    "pf5.to_excel(\"result.xlsx\")"
   ]
  },
  {
   "cell_type": "code",
   "execution_count": 21,
   "id": "25607acc",
   "metadata": {},
   "outputs": [],
   "source": [
    "# Finish"
   ]
  }
 ],
 "metadata": {
  "kernelspec": {
   "display_name": "Python 3 (ipykernel)",
   "language": "python",
   "name": "python3"
  },
  "language_info": {
   "codemirror_mode": {
    "name": "ipython",
    "version": 3
   },
   "file_extension": ".py",
   "mimetype": "text/x-python",
   "name": "python",
   "nbconvert_exporter": "python",
   "pygments_lexer": "ipython3",
   "version": "3.8.13"
  }
 },
 "nbformat": 4,
 "nbformat_minor": 5
}
